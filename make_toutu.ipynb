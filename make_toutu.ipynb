{
 "cells": [
  {
   "cell_type": "code",
   "execution_count": 32,
   "id": "d7d22d93",
   "metadata": {},
   "outputs": [],
   "source": [
    "#导入python库\n",
    "from PIL import Image, ImageDraw, ImageFont\n",
    "\n",
    "####在这里“”中输入想要的头图文字\n",
    "msg = \"输入文字\"\n",
    "\n",
    "#拷贝原背景图（无文字）位置至original\n",
    "original = '/Users/workbuddies/toutu.png'\n",
    "\n",
    "#打开该背景图，命名为img\n",
    "img = Image.open(original) \n",
    "\n",
    "#已选择本地字体adobe仿宋，字号40\n",
    "myFont = ImageFont.truetype('/Users/workbuddies/Library/Fonts/Adobe仿宋體 Std L.otf', 40)\n",
    "\n",
    "#定义图片大小\n",
    "W, H = img.size\n",
    "\n",
    "#定义画字object\n",
    "draw = ImageDraw.Draw(img)\n",
    "\n",
    "##找到文字段的长宽\n",
    "_, _, w, h = draw.textbbox((0, 0), msg, font=myFont)\n",
    "\n",
    "#让文字段横向对齐\n",
    "x = (W - w) / 2\n",
    "\n",
    "#写字上去\n",
    "draw.text((x, 113), msg, font=myFont, fill='black')\n",
    "\n",
    "#显示图片\n",
    "img.show()"
   ]
  },
  {
   "cell_type": "code",
   "execution_count": 33,
   "id": "7babfd73",
   "metadata": {},
   "outputs": [],
   "source": [
    "#保存图片到本地，图片名为“新头图”\n",
    "img.save('/Users/workbuddies/Desktop/新头图.png')"
   ]
  },
  {
   "cell_type": "code",
   "execution_count": null,
   "id": "0ed1f8c7",
   "metadata": {},
   "outputs": [],
   "source": []
  }
 ],
 "metadata": {
  "kernelspec": {
   "display_name": "Python 3 (ipykernel)",
   "language": "python",
   "name": "python3"
  },
  "language_info": {
   "codemirror_mode": {
    "name": "ipython",
    "version": 3
   },
   "file_extension": ".py",
   "mimetype": "text/x-python",
   "name": "python",
   "nbconvert_exporter": "python",
   "pygments_lexer": "ipython3",
   "version": "3.9.13"
  }
 },
 "nbformat": 4,
 "nbformat_minor": 5
}
